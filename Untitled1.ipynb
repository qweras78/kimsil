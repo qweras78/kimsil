{
  "nbformat": 4,
  "nbformat_minor": 0,
  "metadata": {
    "colab": {
      "name": "Untitled1.ipynb",
      "provenance": [],
      "toc_visible": true,
      "mount_file_id": "1Tjhtql0gKJ8YoZtX45g-iBCAni9IX6VT",
      "authorship_tag": "ABX9TyPVNFJ4LLsrS9Fv6gfQ4UBi",
      "include_colab_link": true
    },
    "kernelspec": {
      "name": "python3",
      "display_name": "Python 3"
    }
  },
  "cells": [
    {
      "cell_type": "markdown",
      "metadata": {
        "id": "view-in-github",
        "colab_type": "text"
      },
      "source": [
        "<a href=\"https://colab.research.google.com/github/qweras78/kimsil/blob/master/Untitled1.ipynb\" target=\"_parent\"><img src=\"https://colab.research.google.com/assets/colab-badge.svg\" alt=\"Open In Colab\"/></a>"
      ]
    },
    {
      "cell_type": "markdown",
      "metadata": {
        "id": "qUrP3vLrp_TJ",
        "colab_type": "text"
      },
      "source": [
        "# **< 인공지능  기술들 >**\n",
        "\n",
        "---\n",
        "    4가지 분야의 기술을 사용하는 4가지제품 및 서비스\n",
        "---\n",
        "1. **언어**\n",
        "+ 'NAVER'의 Papago 번역 인공지능\n",
        "+ 'Google'의 홈미니 인공지능 스피커\n",
        " + 음성번역도구 [A]↔[가] (영한번역가능)\n",
        "+ 'LG'의 인공지능 휘센 듀얼 에어컨\n",
        "  + 언어학습가능\n",
        "---\n",
        "2. **음성**\n",
        "+ 'Youtube'의 인공지능 성우서비스 타입캐스트\n",
        " + 콘텐츠 생산 주력\n",
        "+ 'LG'의 인공지능 음성인식 트롬 세탁기\n",
        " + 인공지능 음성인식 플랫폼을 탑재 - 사용자가 전원 켜기, 세탁 코스 선택, 세탁 시작 등 모두 음성만으로 제어 가능.   \n",
        "  (사용자가 손을 이용해 세탁기의 디스플레이 판넬을 별도로 조작할 필요가 없어 편리)\n",
        "----\n",
        "3. **이미지**\n",
        "+ 'Resize 2x'\n",
        " + 이미지크기(픽셀)을 두 배 늘려주는 이미지 업스케일 앱\n",
        " + 주요 피사체를 건들이지 않고, 여러비율로 자동크롭하는 스마트 비율 자르기 기능\n",
        "---\n",
        "4. **자율주행**\n",
        "+ 'KT'의 단말기 입출고 작업에 5세대(G) 기반의 자율주행 운반 카트'\n",
        "+  '제네시스'의 GV80 차량 (운전자의 주행성향에 맞춰 부분 자율주행을 구현)\n",
        "---\n",
        "> 4가지 분야에서 인공지능을 탑재한 새로운 도전이 이루어짐\n",
        "\n"
      ]
    }
  ]
}